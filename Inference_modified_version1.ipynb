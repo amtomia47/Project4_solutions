{
 "cells": [
  {
   "cell_type": "code",
   "execution_count": 1,
   "metadata": {},
   "outputs": [
    {
     "name": "stderr",
     "output_type": "stream",
     "text": [
      "  0%|          | 0/501 [00:00<?, ?it/s]c:\\Users\\amtom\\AppData\\Local\\Programs\\Python\\Python310\\lib\\site-packages\\tqdm\\auto.py:21: TqdmWarning: IProgress not found. Please update jupyter and ipywidgets. See https://ipywidgets.readthedocs.io/en/stable/user_install.html\n",
      "  from .autonotebook import tqdm as notebook_tqdm\n",
      "100%|██████████| 501/501 [00:04<00:00, 124.65it/s]\n"
     ]
    },
    {
     "data": {
      "image/png": "[encoded data removed]",
      "text/plain": [
       "<Figure size 640x480 with 1 Axes>"
      ]
     },
     "metadata": {},
     "output_type": "display_data"
    }
   ],
   "source": [
    "\"\"\"\n",
    "Marcelo Gennari do Nascimento, 2022\n",
    "marcelogennari@outlook.com\n",
    "\n",
    "This script performs the sampling given the trained UNet model\n",
    "\"\"\"\n",
    "from tqdm import trange\n",
    "\n",
    "import torch\n",
    "from models import UNet\n",
    "from diffusion_model import DiffusionProcess\n",
    "\n",
    "import matplotlib.pyplot as plt\n",
    "import torch.nn as nn\n",
    "\n",
    "class DIP(nn.Module):\n",
    "    def __init__(self):\n",
    "        super(DIP, self).__init__()\n",
    "        self.encoder = nn.Sequential(\n",
    "            self.conv_block(1, 64)\n",
    "        )\n",
    "        self.decoder = nn.Sequential(\n",
    "            self.conv_block(64, 1)\n",
    "        )\n",
    "    \n",
    "    def conv_block(self, in_channels, out_channels):\n",
    "        return nn.Sequential(\n",
    "            nn.Conv2d(in_channels, out_channels, kernel_size=3, padding=1),\n",
    "            nn.ReLU(inplace=True),\n",
    "            nn.Conv2d(out_channels, out_channels, kernel_size=3, padding=1),\n",
    "            nn.ReLU(inplace=True),\n",
    "            #nn.Upsample(scale_factor=2, mode='bilinear', align_corners=True)\n",
    "        )\n",
    "    \n",
    "    def forward(self, x):\n",
    "        #print(x.shape)\n",
    "        x = self.encoder(x)\n",
    "        #print(x.shape)\n",
    "        x = self.decoder(x)\n",
    "        #print(x.shape)\n",
    "        return x\n",
    "\n",
    "def display_image(tensor, title=\"Image\"):\n",
    "    image = tensor.squeeze(0).squeeze(0).cpu().detach().numpy()\n",
    "    plt.imshow(image, cmap='gray')\n",
    "    plt.title(title)\n",
    "    plt.show()\n",
    "\n",
    "\n",
    "if __name__ == \"__main__\":\n",
    "    # Prepare model\n",
    "    device = \"cuda\"\n",
    "    batch_size = 1\n",
    "    prior = DIP().to(device)\n",
    "    model = UNet().to(device)\n",
    "    model.load_state_dict(torch.load(\"Model_DIP_DDPM_modified_schedule1.pth\"))\n",
    "    prior.load_state_dict(torch.load('DIP_sample.pth'))\n",
    "    process = DiffusionProcess(variance_schedule=torch.linspace(1e-4, 0.01, steps=501))\n",
    "\n",
    "    # Sampling\n",
    "    \n",
    "    xt = torch.randn((1,1,28,28))\n",
    "    model.eval()\n",
    "    prior.eval()\n",
    "    with torch.no_grad():\n",
    "        for t in trange(500,-1, -1):\n",
    "            time = torch.ones(batch_size) * t\n",
    "            et = model(xt.to(device), time.to(device))  # predict noise\n",
    "            xt = process.inverse(xt.cpu(), et.cpu(), t)\n",
    "\n",
    "    labels = [\"Generated Images\"] * 9\n",
    "\n",
    "    for i in range(1):\n",
    "        plt.tight_layout()\n",
    "        plt.imshow(xt[i][0], cmap= \"gray\", interpolation= \"none\")\n",
    "        plt.title(labels[i])\n",
    "    plt.show()\n"
   ]
  },
  {
   "cell_type": "code",
   "execution_count": 2,
   "metadata": {},
   "outputs": [
    {
     "name": "stdout",
     "output_type": "stream",
     "text": [
      "torch.Size([1, 1, 28, 28])\n",
      "torch.Size([1, 1, 28, 28])\n"
     ]
    },
    {
     "data": {
      "text/plain": [
       "7.806984346837847"
      ]
     },
     "execution_count": 2,
     "metadata": {},
     "output_type": "execute_result"
    }
   ],
   "source": [
    "from skimage.metrics import peak_signal_noise_ratio\n",
    "from torchvision import datasets ,transforms\n",
    "transform = transforms.Compose([\n",
    "    transforms.ToTensor()\n",
    "])\n",
    "image , _ = datasets.MNIST(root='./data', train=True, download=True, transform=transform)[15]\n",
    "image = image.reshape((1,1,28,28))\n",
    "clean_image_np = image.squeeze().cpu().numpy()\n",
    "refined_img_np = xt.squeeze().cpu().numpy()\n",
    "print(image.shape)\n",
    "print(xt.shape)\n",
    "psnr_value = peak_signal_noise_ratio(clean_image_np, refined_img_np)\n",
    "psnr_value"
   ]
  }
 ],
 "metadata": {
  "kernelspec": {
   "display_name": "Python 3",
   "language": "python",
   "name": "python3"
  },
  "language_info": {
   "codemirror_mode": {
    "name": "ipython",
    "version": 3
   },
   "file_extension": ".py",
   "mimetype": "text/x-python",
   "name": "python",
   "nbconvert_exporter": "python",
   "pygments_lexer": "ipython3",
   "version": "3.10.11"
  }
 },
 "nbformat": 4,
 "nbformat_minor": 2
}
