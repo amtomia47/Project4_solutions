{
 "cells": [
  {
   "cell_type": "code",
   "execution_count": 17,
   "metadata": {},
   "outputs": [
    {
     "name": "stderr",
     "output_type": "stream",
     "text": [
      "100%|██████████| 501/501 [00:02<00:00, 193.99it/s]\n"
     ]
    },
    {
     "data": {
      "image/png": "[encoded data removed]",
      "text/plain": [
       "<Figure size 640x480 with 1 Axes>"
      ]
     },
     "metadata": {},
     "output_type": "display_data"
    }
   ],
   "source": [
    "\"\"\"\n",
    "Marcelo Gennari do Nascimento, 2022\n",
    "marcelogennari@outlook.com\n",
    "\n",
    "This script performs the sampling given the trained UNet model\n",
    "\"\"\"\n",
    "from tqdm import trange\n",
    "\n",
    "import torch\n",
    "from models import ConditionalUNet, UNet\n",
    "from diffusion_model import DiffusionProcess\n",
    "\n",
    "import matplotlib.pyplot as plt\n",
    "\n",
    "if __name__ == \"__main__\":\n",
    "    # Prepare model\n",
    "    device = \"cuda\"\n",
    "    batch_size = 1\n",
    "    model = UNet().to(device)\n",
    "    model.load_state_dict(torch.load(\"Model_sole_DDPM.pth\"))\n",
    "    process = DiffusionProcess()\n",
    "\n",
    "    # Sampling\n",
    "    xt = torch.randn(batch_size, 1, 28, 28)\n",
    "    digit_to_sample = torch.Tensor([9]).to(dtype=torch.long).to(device)\n",
    "\n",
    "    model.eval()\n",
    "    with torch.no_grad():\n",
    "        for t in trange(500, -1, -1):\n",
    "            time = torch.ones(batch_size) * t\n",
    "            et = model(xt.to(device), time.to(device))  # predict noise\n",
    "            xt = process.inverse(xt, et.cpu(), t)\n",
    "\n",
    "    labels = [\"Generated Images\"] * 9\n",
    "\n",
    "    for i in range(1):\n",
    "        plt.tight_layout()\n",
    "        plt.imshow(xt[i][0], cmap=\"gray\", interpolation=\"none\")\n",
    "        plt.title(labels[i])\n",
    "    plt.show()\n"
   ]
  },
  {
   "cell_type": "code",
   "execution_count": 18,
   "metadata": {},
   "outputs": [
    {
     "name": "stdout",
     "output_type": "stream",
     "text": [
      "torch.Size([1, 1, 28, 28])\n",
      "torch.Size([1, 1, 28, 28])\n"
     ]
    },
    {
     "data": {
      "text/plain": [
       "1.2302671435454218"
      ]
     },
     "execution_count": 18,
     "metadata": {},
     "output_type": "execute_result"
    }
   ],
   "source": [
    "from skimage.metrics import peak_signal_noise_ratio\n",
    "from torchvision import datasets ,transforms\n",
    "transform = transforms.Compose([\n",
    "    transforms.ToTensor()\n",
    "])\n",
    "image , _ = datasets.MNIST(root='./data', train=True, download=True, transform=transform)[15]\n",
    "image = image.reshape((1,1,28,28))\n",
    "clean_image_np = image.squeeze().cpu().numpy()\n",
    "refined_img_np = xt.squeeze().cpu().numpy()\n",
    "print(image.shape)\n",
    "print(xt.shape)\n",
    "psnr_value = peak_signal_noise_ratio(clean_image_np, refined_img_np)\n",
    "psnr_value"
   ]
  }
 ],
 "metadata": {
  "kernelspec": {
   "display_name": "Python 3",
   "language": "python",
   "name": "python3"
  },
  "language_info": {
   "codemirror_mode": {
    "name": "ipython",
    "version": 3
   },
   "file_extension": ".py",
   "mimetype": "text/x-python",
   "name": "python",
   "nbconvert_exporter": "python",
   "pygments_lexer": "ipython3",
   "version": "3.10.11"
  }
 },
 "nbformat": 4,
 "nbformat_minor": 2
}
